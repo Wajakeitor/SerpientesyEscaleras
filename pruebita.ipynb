{
 "cells": [
  {
   "cell_type": "code",
   "execution_count": null,
   "metadata": {},
   "outputs": [],
   "source": [
    "!pip install streamlit"
   ]
  },
  {
   "cell_type": "code",
   "execution_count": 14,
   "metadata": {},
   "outputs": [
    {
     "ename": "SyntaxError",
     "evalue": "invalid syntax (861611790.py, line 7)",
     "output_type": "error",
     "traceback": [
      "\u001b[0;36m  Cell \u001b[0;32mIn[14], line 7\u001b[0;36m\u001b[0m\n\u001b[0;31m    from Clases.* import *\u001b[0m\n\u001b[0m                ^\u001b[0m\n\u001b[0;31mSyntaxError\u001b[0m\u001b[0;31m:\u001b[0m invalid syntax\n"
     ]
    }
   ],
   "source": [
    "import streamlit as st\n",
    "import matplotlib.pyplot as plt\n",
    "import math\n",
    "\n",
    "\n",
    "# clases de este proyecto\n",
    "from Clases.* import *"
   ]
  },
  {
   "cell_type": "markdown",
   "metadata": {},
   "source": [
    "# Ejecución local del dashboard"
   ]
  },
  {
   "cell_type": "markdown",
   "metadata": {},
   "source": [
    "si es la primera vez que ejecutas streamlit, te recomiendo que en la terminal abras tu entorno virtual (venv) y ejecutes los comandos:\n",
    "1. ``` sourcer ruta/a/tu/entorno/vitual/bin/activate``` para activar el entorno virtual\n",
    "1. `streamlit run` te va a pedir tu email y solo lo saltas (no recuerdo como)\n",
    "luego ya podrás usar el comando de abajo uwu."
   ]
  },
  {
   "cell_type": "code",
   "execution_count": 1,
   "metadata": {},
   "outputs": [
    {
     "name": "stdout",
     "output_type": "stream",
     "text": [
      "0\n",
      "0 4\n",
      "4 4\n",
      "1\n",
      "1\n",
      "2\n",
      "2\n",
      "3\n",
      "3\n",
      "4\n",
      "4\n",
      "1\n",
      "2\n",
      "3\n",
      "4\n",
      "5\n",
      "1\n",
      "2\n",
      "3\n",
      "4\n",
      "5\n",
      "1\n",
      "2\n",
      "3\n",
      "4\n",
      "5\n",
      "1\n",
      "2\n",
      "3\n",
      "4\n",
      "5\n",
      "1\n",
      "2\n",
      "3\n",
      "4\n",
      "5\n",
      "1\n",
      "2\n",
      "3\n",
      "4\n",
      "5\n",
      "1\n",
      "2\n",
      "3\n",
      "4\n",
      "5\n",
      "1\n",
      "2\n",
      "3\n",
      "4\n",
      "5\n",
      "2025-03-02 15:27:03.382 Uncaught app execution\n",
      "Traceback (most recent call last):\n",
      "  File \"/home/jeroz/UNAM/kernel1/lib/python3.13/site-packages/streamlit/runtime/scriptrunner/exec_code.py\", line 121, in exec_func_with_error_handling\n",
      "    result = func()\n",
      "  File \"/home/jeroz/UNAM/kernel1/lib/python3.13/site-packages/streamlit/runtime/scriptrunner/script_runner.py\", line 591, in code_to_exec\n",
      "    exec(code, module.__dict__)\n",
      "    ~~~~^^^^^^^^^^^^^^^^^^^^^^^\n",
      "  File \"/home/jeroz/UNAM/08-Mineria/SerpientesyEscaleras/dashboard.py\", line 65, in <module>\n",
      "    tablero.graficar()\n",
      "    ~~~~~~~~~~~~~~~~^^\n",
      "  File \"/home/jeroz/UNAM/08-Mineria/SerpientesyEscaleras/Clases/tablero.py\", line 138, in graficar\n",
      "    pieza.graficar(ax)\n",
      "    ~~~~~~~~~~~~~~^^^^\n",
      "  File \"/home/jeroz/UNAM/08-Mineria/SerpientesyEscaleras/Clases/pieza.py\", line 79, in graficar\n",
      "    rombo(self.casilla.xinicio+3*largo,\n",
      "                                 ^^^^^\n",
      "NameError: name 'largo' is not defined\n",
      "\u001b[34m  Stopping...\u001b[0m\n",
      "^C\n",
      "\u001b[34m  Stopping...\u001b[0m\n"
     ]
    }
   ],
   "source": [
    "!streamlit run dashboard.py"
   ]
  },
  {
   "cell_type": "code",
   "execution_count": 1,
   "metadata": {},
   "outputs": [
    {
     "name": "stdout",
     "output_type": "stream",
     "text": [
      "5 33.333333333333336 50.0\n"
     ]
    },
    {
     "data": {
      "image/png": "[encoded data removed]",
      "text/plain": [
       "<Figure size 900x900 with 1 Axes>"
      ]
     },
     "metadata": {},
     "output_type": "display_data"
    }
   ],
   "source": [
    "from Clases.tablero import Tableros\n",
    "tablero = Tableros()\n",
    "tablero.graficar()"
   ]
  },
  {
   "cell_type": "code",
   "execution_count": 20,
   "metadata": {},
   "outputs": [],
   "source": [
    "from Clases.Casilla import Casillas"
   ]
  },
  {
   "cell_type": "code",
   "execution_count": 22,
   "metadata": {},
   "outputs": [
    {
     "ename": "TypeError",
     "evalue": "Casillas.__init__() missing 7 required positional arguments: 'numero', 'tipoCasilla', 'largo', 'alto', 'grosor', 'xinicio', and 'yinicio'",
     "output_type": "error",
     "traceback": [
      "\u001b[0;31m---------------------------------------------------------------------------\u001b[0m",
      "\u001b[0;31mTypeError\u001b[0m                                 Traceback (most recent call last)",
      "Cell \u001b[0;32mIn[22], line 1\u001b[0m\n\u001b[0;32m----> 1\u001b[0m \u001b[43mCasillas\u001b[49m\u001b[43m(\u001b[49m\u001b[43m)\u001b[49m\n",
      "\u001b[0;31mTypeError\u001b[0m: Casillas.__init__() missing 7 required positional arguments: 'numero', 'tipoCasilla', 'largo', 'alto', 'grosor', 'xinicio', and 'yinicio'"
     ]
    }
   ],
   "source": [
    "Casillas()"
   ]
  },
  {
   "cell_type": "markdown",
   "metadata": {},
   "source": [
    "### tiempo de graficación de las figuras"
   ]
  },
  {
   "cell_type": "code",
   "execution_count": 3,
   "metadata": {},
   "outputs": [
    {
     "name": "stdout",
     "output_type": "stream",
     "text": [
      "Tiempos de ejecución: {'estrella': 0.0009788639999896986, 'pentagono': 0.0003130670002065017, 'triangulo': 0.0002919250000559259, 'rombo': 0.0003016160007973667, 'hexagono': 0.00038015900008758763}\n"
     ]
    }
   ],
   "source": [
    "import time\n",
    "import matplotlib.pyplot as plt\n",
    "from Clases.pieza import *\n",
    "\n",
    "def medir_tiempo(func, *args):\n",
    "    \"\"\"Mide el tiempo de ejecución de una función\"\"\"\n",
    "    inicio = time.perf_counter()\n",
    "    func(*args)\n",
    "    fin = time.perf_counter()\n",
    "    return fin - inicio\n",
    "\n",
    "# Medir cada figura\n",
    "fig, ax = plt.subplots()\n",
    "\n",
    "tiempos = {\n",
    "    \"estrella\": medir_tiempo(estrella, 1, 1, 2, 2, 'gold', ax),\n",
    "    \"pentagono\": medir_tiempo(pentagono, 4, 1, 2, 2, 'blue', ax),\n",
    "    \"triangulo\": medir_tiempo(triangulo, 7, 1, 2, 2, 'red', ax),\n",
    "    \"rombo\": medir_tiempo(rombo, 1, 4, 2, 2, 'green', ax),\n",
    "    \"hexagono\": medir_tiempo(hexagono, 4, 4, 2, 2, 'purple', ax)\n",
    "}\n",
    "\n",
    "print(\"Tiempos de ejecución:\", tiempos)\n",
    "plt.close(fig)"
   ]
  }
 ],
 "metadata": {
  "kernelspec": {
   "display_name": "kernel1",
   "language": "python",
   "name": "python3"
  },
  "language_info": {
   "codemirror_mode": {
    "name": "ipython",
    "version": 3
   },
   "file_extension": ".py",
   "mimetype": "text/x-python",
   "name": "python",
   "nbconvert_exporter": "python",
   "pygments_lexer": "ipython3",
   "version": "3.13.1"
  }
 },
 "nbformat": 4,
 "nbformat_minor": 2
}
